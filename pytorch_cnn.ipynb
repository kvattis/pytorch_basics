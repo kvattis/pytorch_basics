{
  "nbformat": 4,
  "nbformat_minor": 0,
  "metadata": {
    "colab": {
      "name": "pytorch_cnn.ipynb",
      "provenance": [],
      "collapsed_sections": []
    },
    "kernelspec": {
      "name": "python3",
      "display_name": "Python 3"
    },
    "accelerator": "GPU"
  },
  "cells": [
    {
      "cell_type": "markdown",
      "metadata": {
        "id": "Z2lvaBdTtew4",
        "colab_type": "text"
      },
      "source": [
        "# CNN using PyTorch"
      ]
    },
    {
      "cell_type": "markdown",
      "metadata": {
        "id": "_Qji41layyc0",
        "colab_type": "text"
      },
      "source": [
        "We import the necessary libraries and packages "
      ]
    },
    {
      "cell_type": "code",
      "metadata": {
        "id": "82oVcijFy82r",
        "colab_type": "code",
        "colab": {}
      },
      "source": [
        "from torch.utils.data import Dataset, DataLoader\n",
        "\n",
        "from torchvision import transforms\n",
        "import torch \n",
        "import torch.nn as nn\n",
        "import torchvision.transforms as transforms\n",
        "import torchvision.models as models\n",
        "import torchvision.datasets as dsets\n",
        "torch.manual_seed(0)\n",
        "\n",
        "from matplotlib.pyplot import imshow\n",
        "import matplotlib.pylab as plt\n",
        "\n",
        "from PIL import Image"
      ],
      "execution_count": 15,
      "outputs": []
    },
    {
      "cell_type": "markdown",
      "metadata": {
        "id": "BI9I6iYcuzUr",
        "colab_type": "text"
      },
      "source": [
        "We will load the Fashion-MNIST"
      ]
    },
    {
      "cell_type": "code",
      "metadata": {
        "id": "Vritm5rqtq5n",
        "colab_type": "code",
        "colab": {}
      },
      "source": [
        "img_size = 16\n",
        "\n",
        "composed = transforms.Compose([transforms.Resize((img_size, img_size)), transforms.ToTensor()])\n",
        "\n",
        "dataset_train = dsets.FashionMNIST(root='.fashion/data', train=True, download=True, transform=composed)\n",
        "dataset_val = dsets.FashionMNIST(root='.fashion/data', train=False, download=True, transform=composed)"
      ],
      "execution_count": 16,
      "outputs": []
    },
    {
      "cell_type": "markdown",
      "metadata": {
        "id": "3ST6LPSdzhtL",
        "colab_type": "text"
      },
      "source": [
        "We take a look at the data to make sure everything looks ok"
      ]
    },
    {
      "cell_type": "code",
      "metadata": {
        "id": "moxwBIAIzbXQ",
        "colab_type": "code",
        "colab": {}
      },
      "source": [
        "def img_show(data_sample):\n",
        "    plt.imshow(data_sample[0].numpy().reshape(img_size, img_size), cmap='gray')\n",
        "    plt.title('y = '+ str(data_sample[1]))"
      ],
      "execution_count": 17,
      "outputs": []
    },
    {
      "cell_type": "markdown",
      "metadata": {
        "id": "HS-YKn0d0QnY",
        "colab_type": "text"
      },
      "source": [
        "Training set:"
      ]
    },
    {
      "cell_type": "code",
      "metadata": {
        "id": "K3GT5ILT0TSa",
        "colab_type": "code",
        "colab": {
          "base_uri": "https://localhost:8080/",
          "height": 809
        },
        "outputId": "1adac0b8-427f-4bd1-d5f9-d68b1d9e242e"
      },
      "source": [
        "for n,data_sample in enumerate(dataset_train):\n",
        "\n",
        "    img_show(data_sample)\n",
        "    plt.show()\n",
        "    if n==2:\n",
        "        break "
      ],
      "execution_count": 19,
      "outputs": [
        {
          "output_type": "display_data",
          "data": {
            "image/png": "[encoded data removed]",
            "text/plain": [
              "<Figure size 432x288 with 1 Axes>"
            ]
          },
          "metadata": {
            "tags": [],
            "needs_background": "light"
          }
        },
        {
          "output_type": "display_data",
          "data": {
            "image/png": "[encoded data removed]",
            "text/plain": [
              "<Figure size 432x288 with 1 Axes>"
            ]
          },
          "metadata": {
            "tags": [],
            "needs_background": "light"
          }
        },
        {
          "output_type": "display_data",
          "data": {
            "image/png": "[encoded data removed]",
            "text/plain": [
              "<Figure size 432x288 with 1 Axes>"
            ]
          },
          "metadata": {
            "tags": [],
            "needs_background": "light"
          }
        }
      ]
    },
    {
      "cell_type": "markdown",
      "metadata": {
        "id": "oTSl2yXN0Y0F",
        "colab_type": "text"
      },
      "source": [
        "Validation set:"
      ]
    },
    {
      "cell_type": "code",
      "metadata": {
        "id": "AU9gsv2gz38-",
        "colab_type": "code",
        "colab": {
          "base_uri": "https://localhost:8080/",
          "height": 809
        },
        "outputId": "07f9e0cf-b1a4-4290-d3c2-f4c9700f6339"
      },
      "source": [
        "for n,data_sample in enumerate(dataset_val):\n",
        "\n",
        "    img_show(data_sample)\n",
        "    plt.show()\n",
        "    if n==2:\n",
        "        break "
      ],
      "execution_count": 20,
      "outputs": [
        {
          "output_type": "display_data",
          "data": {
            "image/png": "[encoded data removed]",
            "text/plain": [
              "<Figure size 432x288 with 1 Axes>"
            ]
          },
          "metadata": {
            "tags": [],
            "needs_background": "light"
          }
        },
        {
          "output_type": "display_data",
          "data": {
            "image/png": "[encoded data removed]",
            "text/plain": [
              "<Figure size 432x288 with 1 Axes>"
            ]
          },
          "metadata": {
            "tags": [],
            "needs_background": "light"
          }
        },
        {
          "output_type": "display_data",
          "data": {
            "image/png": "[encoded data removed]",
            "text/plain": [
              "<Figure size 432x288 with 1 Axes>"
            ]
          },
          "metadata": {
            "tags": [],
            "needs_background": "light"
          }
        }
      ]
    },
    {
      "cell_type": "markdown",
      "metadata": {
        "id": "DwnopWkk1s10",
        "colab_type": "text"
      },
      "source": [
        "We load the data into the DataLoader"
      ]
    },
    {
      "cell_type": "code",
      "metadata": {
        "id": "PPSvViXd11V3",
        "colab_type": "code",
        "colab": {}
      },
      "source": [
        "train_loader = torch.utils.data.DataLoader(dataset=dataset_train, batch_size=100 )\n",
        "test_loader = torch.utils.data.DataLoader(dataset=dataset_val, batch_size=100 )"
      ],
      "execution_count": null,
      "outputs": []
    },
    {
      "cell_type": "markdown",
      "metadata": {
        "id": "iobsEkM34BI4",
        "colab_type": "text"
      },
      "source": [
        "## Simple CNN"
      ]
    },
    {
      "cell_type": "markdown",
      "metadata": {
        "id": "WekgCZSW0laC",
        "colab_type": "text"
      },
      "source": [
        "We can now start building a simple CNN "
      ]
    },
    {
      "cell_type": "code",
      "metadata": {
        "id": "aWjtsQRh0A66",
        "colab_type": "code",
        "colab": {}
      },
      "source": [
        "class CNN(nn.Module):\n",
        "    \n",
        "    # Contructor\n",
        "    def __init__(self, out_1=16, out_2=32,number_of_classes=10):\n",
        "        super(CNN, self).__init__()\n",
        "        # First convl. layer + a maxpool layer\n",
        "        self.cnn1 = nn.Conv2d(in_channels=1, out_channels=out_1, kernel_size=5, padding=2)\n",
        "        self.maxpool1=nn.MaxPool2d(kernel_size=2)\n",
        "\n",
        "        # Second convl. layer + a maxpool layer\n",
        "        self.cnn2 = nn.Conv2d(in_channels=out_1, out_channels=out_2, kernel_size=5, stride=1, padding=2)\n",
        "        self.maxpool2=nn.MaxPool2d(kernel_size=2)\n",
        "        \n",
        "        #Final linear layer\n",
        "        self.fc1 = nn.Linear(out_2 * 4 * 4, number_of_classes)\n",
        "    \n",
        "    # Prediction\n",
        "    def forward(self, x):\n",
        "        x = self.cnn1(x)\n",
        "        x = torch.relu(x)\n",
        "        x = self.maxpool1(x)\n",
        "        x = self.cnn2(x)\n",
        "        x = torch.relu(x)\n",
        "        x = self.maxpool2(x)\n",
        "        x = x.view(x.size(0), -1)\n",
        "        x = self.fc1(x)\n",
        "        return x"
      ],
      "execution_count": null,
      "outputs": []
    },
    {
      "cell_type": "markdown",
      "metadata": {
        "id": "OJmpkHjY2AXR",
        "colab_type": "text"
      },
      "source": [
        "We can now define the model, the loos criterion and the optimizer to be used for the learning"
      ]
    },
    {
      "cell_type": "code",
      "metadata": {
        "id": "hgAAJyRC1nzB",
        "colab_type": "code",
        "colab": {}
      },
      "source": [
        "model = CNN(out_1=16, out_2=32,number_of_classes=10)\n",
        "criterion = nn.CrossEntropyLoss()\n",
        "learning_rate = 0.1\n",
        "optimizer = torch.optim.SGD(model.parameters(), lr = learning_rate) #Stochstic gradient decent "
      ],
      "execution_count": null,
      "outputs": []
    },
    {
      "cell_type": "markdown",
      "metadata": {
        "id": "Kk42OBRK2Xzm",
        "colab_type": "text"
      },
      "source": [
        "And train the model"
      ]
    },
    {
      "cell_type": "code",
      "metadata": {
        "id": "u-nyCj2y2Us6",
        "colab_type": "code",
        "colab": {}
      },
      "source": [
        "import time\n",
        "start_time = time.time()\n",
        "\n",
        "cost_list=[]\n",
        "accuracy_list=[]\n",
        "N_test=len(dataset_val)\n",
        "n_epochs=10\n",
        "for epoch in range(n_epochs):\n",
        "    cost=0\n",
        "    # Put the arch. in train mode\n",
        "    model.train()\n",
        "\n",
        "    # Loop over training data set\n",
        "    for x, y in train_loader:\n",
        "\n",
        "        # Zero out the gradients\n",
        "        optimizer.zero_grad()\n",
        "\n",
        "        # Pass the batch to the architecture \n",
        "        z = model(x)\n",
        "\n",
        "        # Calculate the loss to reproduce the\n",
        "        # input at the output.\n",
        "        loss = criterion(z, y)\n",
        "\n",
        "        # Backpropagation \n",
        "        loss.backward()\n",
        "\n",
        "        # Update the network weights\n",
        "        optimizer.step()\n",
        "\n",
        "        # Add to the running loss\n",
        "        cost+=loss.item()\n",
        "\n",
        "    correct=0\n",
        "    #perform a prediction on the validation  data \n",
        "\n",
        "    # Set the model to evaluation mode\n",
        "    model.eval()\n",
        "\n",
        "    # Loop over validation data\n",
        "    for x_test, y_test in test_loader:\n",
        "        z = model(x_test)\n",
        "        _, yhat = torch.max(z.data, 1)\n",
        "        correct += (yhat == y_test).sum().item()\n",
        "    accuracy = correct / N_test\n",
        "    accuracy_list.append(accuracy)\n",
        "    cost_list.append(cost)"
      ],
      "execution_count": null,
      "outputs": []
    },
    {
      "cell_type": "markdown",
      "metadata": {
        "id": "gYUKvRQT4Fk8",
        "colab_type": "text"
      },
      "source": [
        "We can now plot the Cost and accuracy"
      ]
    },
    {
      "cell_type": "code",
      "metadata": {
        "id": "AsF2_AeT3dFU",
        "colab_type": "code",
        "colab": {
          "base_uri": "https://localhost:8080/",
          "height": 297
        },
        "outputId": "b7fe2279-9ee3-4408-c76e-7b50827f7b8c"
      },
      "source": [
        "fig, ax1 = plt.subplots()\n",
        "color = 'tab:red'\n",
        "ax1.plot(cost_list, color=color)\n",
        "ax1.set_xlabel('epoch', color=color)\n",
        "ax1.set_ylabel('Cost', color=color)\n",
        "ax1.tick_params(axis='y', color=color)\n",
        "    \n",
        "ax2 = ax1.twinx()  \n",
        "color = 'tab:blue'\n",
        "ax2.set_ylabel('accuracy', color=color) \n",
        "ax2.set_xlabel('epoch', color=color)\n",
        "ax2.plot( accuracy_list, color=color)\n",
        "ax2.tick_params(axis='y', color=color)\n",
        "fig.tight_layout()"
      ],
      "execution_count": null,
      "outputs": [
        {
          "output_type": "display_data",
          "data": {
            "image/png": "[encoded data removed]",
            "text/plain": [
              "<Figure size 432x288 with 2 Axes>"
            ]
          },
          "metadata": {
            "tags": [],
            "needs_background": "light"
          }
        }
      ]
    },
    {
      "cell_type": "markdown",
      "metadata": {
        "id": "A2P13Lk54Q82",
        "colab_type": "text"
      },
      "source": [
        "Next we try the Adam optimizer"
      ]
    },
    {
      "cell_type": "code",
      "metadata": {
        "id": "QP1RGF-C4PA4",
        "colab_type": "code",
        "colab": {}
      },
      "source": [
        "model = CNN(out_1=16, out_2=32,number_of_classes=10)\n",
        "criterion = nn.CrossEntropyLoss()\n",
        "learning_rate = 0.001\n",
        "optimizer = torch.optim.Adam(model.parameters(), lr = learning_rate, weight_decay=1e-8) #Adam"
      ],
      "execution_count": null,
      "outputs": []
    },
    {
      "cell_type": "markdown",
      "metadata": {
        "id": "hZWnG02d7UKz",
        "colab_type": "text"
      },
      "source": [
        "And train again"
      ]
    },
    {
      "cell_type": "code",
      "metadata": {
        "id": "TNoPbKij7Tcq",
        "colab_type": "code",
        "colab": {}
      },
      "source": [
        "cost_list=[]\n",
        "accuracy_list=[]\n",
        "N_test=len(dataset_val)\n",
        "n_epochs=10\n",
        "for epoch in range(n_epochs):\n",
        "    cost=0\n",
        "    # Put the arch. in train mode\n",
        "    model.train()\n",
        "\n",
        "    # Loop over training data set\n",
        "    for x, y in train_loader:\n",
        "\n",
        "        # Zero out the gradients\n",
        "        optimizer.zero_grad()\n",
        "\n",
        "        # Pass the batch to the architecture \n",
        "        z = model(x)\n",
        "\n",
        "        # Calculate the loss to reproduce the\n",
        "        # input at the output.\n",
        "        loss = criterion(z, y)\n",
        "\n",
        "        # Backpropagation \n",
        "        loss.backward()\n",
        "\n",
        "        # Update the network weights\n",
        "        optimizer.step()\n",
        "\n",
        "        # Add to the running loss\n",
        "        cost+=loss.item()\n",
        "\n",
        "    correct=0\n",
        "    #perform a prediction on the validation  data \n",
        "\n",
        "    # Set the model to evaluation mode\n",
        "    model.eval()\n",
        "\n",
        "    # Loop over validation data\n",
        "    for x_test, y_test in test_loader:\n",
        "        z = model(x_test)\n",
        "        _, yhat = torch.max(z.data, 1)\n",
        "        correct += (yhat == y_test).sum().item()\n",
        "    accuracy = correct / N_test\n",
        "    accuracy_list.append(accuracy)\n",
        "    cost_list.append(cost)"
      ],
      "execution_count": null,
      "outputs": []
    },
    {
      "cell_type": "code",
      "metadata": {
        "id": "AoksrSOs7hSQ",
        "colab_type": "code",
        "colab": {
          "base_uri": "https://localhost:8080/",
          "height": 297
        },
        "outputId": "2cb9f6eb-d40e-488f-a9a7-2ba5b0232d1c"
      },
      "source": [
        "fig, ax1 = plt.subplots()\n",
        "color = 'tab:red'\n",
        "ax1.plot(cost_list, color=color)\n",
        "ax1.set_xlabel('epoch', color=color)\n",
        "ax1.set_ylabel('Cost', color=color)\n",
        "ax1.tick_params(axis='y', color=color)\n",
        "    \n",
        "ax2 = ax1.twinx()  \n",
        "color = 'tab:blue'\n",
        "ax2.set_ylabel('accuracy', color=color) \n",
        "ax2.set_xlabel('epoch', color=color)\n",
        "ax2.plot( accuracy_list, color=color)\n",
        "ax2.tick_params(axis='y', color=color)\n",
        "fig.tight_layout()"
      ],
      "execution_count": null,
      "outputs": [
        {
          "output_type": "display_data",
          "data": {
            "image/png": "[encoded data removed]",
            "text/plain": [
              "<Figure size 432x288 with 2 Axes>"
            ]
          },
          "metadata": {
            "tags": [],
            "needs_background": "light"
          }
        }
      ]
    },
    {
      "cell_type": "markdown",
      "metadata": {
        "id": "_Z98HwNT8bMY",
        "colab_type": "text"
      },
      "source": [
        "## Batch Norm CNN\n",
        "\n",
        "An alternative is to apply batch normalization."
      ]
    },
    {
      "cell_type": "code",
      "metadata": {
        "id": "yILiTxcI7mi4",
        "colab_type": "code",
        "colab": {}
      },
      "source": [
        "class CNN_batch(nn.Module):\n",
        "    def __init__(self, out_1=16, out_2=32,number_of_classes=10):\n",
        "\n",
        "        super(CNN_batch, self).__init__()\n",
        "        \n",
        "        self.architecture = nn.Sequential(\n",
        "            nn.Conv2d(in_channels=1, out_channels=out_1, kernel_size=5, padding=2),\n",
        "            nn.BatchNorm2d(out_1),\n",
        "            nn.ReLU(),\n",
        "            nn.MaxPool2d(kernel_size=2),\n",
        "            nn.Conv2d(in_channels=out_1, out_channels=out_2, kernel_size=5, stride=1, padding=2),\n",
        "            nn.BatchNorm2d(out_2),\n",
        "            nn.ReLU(),\n",
        "            nn.MaxPool2d(kernel_size=2),\n",
        "            nn.Flatten(),\n",
        "            nn.Linear(out_2 * 4 * 4, number_of_classes),\n",
        "            nn.BatchNorm1d(10)\n",
        "        )\n",
        "\n",
        "    def forward(self, x):\n",
        "        x = self.architecture(x)\n",
        "        return x"
      ],
      "execution_count": null,
      "outputs": []
    },
    {
      "cell_type": "code",
      "metadata": {
        "id": "crmDf0EVAsi6",
        "colab_type": "code",
        "colab": {}
      },
      "source": [
        "model = CNN_batch(out_1=16, out_2=32,number_of_classes=10)\n",
        "criterion = nn.CrossEntropyLoss()\n",
        "learning_rate = 0.001\n",
        "optimizer = torch.optim.Adam(model.parameters(), lr = learning_rate, weight_decay=1e-8) #Adam"
      ],
      "execution_count": null,
      "outputs": []
    },
    {
      "cell_type": "code",
      "metadata": {
        "id": "DsqEqd28BK9t",
        "colab_type": "code",
        "colab": {}
      },
      "source": [
        "cost_list=[]\n",
        "accuracy_list=[]\n",
        "N_test=len(dataset_val)\n",
        "n_epochs=10\n",
        "for epoch in range(n_epochs):\n",
        "    cost=0\n",
        "    # Put the arch. in train mode\n",
        "    model.train()\n",
        "\n",
        "    # Loop over training data set\n",
        "    for x, y in train_loader:\n",
        "\n",
        "        # Zero out the gradients\n",
        "        optimizer.zero_grad()\n",
        "\n",
        "        # Pass the batch to the architecture \n",
        "        z = model(x)\n",
        "\n",
        "        # Calculate the loss to reproduce the\n",
        "        # input at the output.\n",
        "        loss = criterion(z, y)\n",
        "\n",
        "        # Backpropagation \n",
        "        loss.backward()\n",
        "\n",
        "        # Update the network weights\n",
        "        optimizer.step()\n",
        "\n",
        "        # Add to the running loss\n",
        "        cost+=loss.item()\n",
        "\n",
        "    correct=0\n",
        "    #perform a prediction on the validation  data \n",
        "\n",
        "    # Set the model to evaluation mode\n",
        "    model.eval()\n",
        "\n",
        "    # Loop over validation data\n",
        "    for x_test, y_test in test_loader:\n",
        "        z = model(x_test)\n",
        "        _, yhat = torch.max(z.data, 1)\n",
        "        correct += (yhat == y_test).sum().item()\n",
        "    accuracy = correct / N_test\n",
        "    accuracy_list.append(accuracy)\n",
        "    cost_list.append(cost)"
      ],
      "execution_count": null,
      "outputs": []
    },
    {
      "cell_type": "code",
      "metadata": {
        "id": "-nimW2EYB1Vt",
        "colab_type": "code",
        "colab": {
          "base_uri": "https://localhost:8080/",
          "height": 297
        },
        "outputId": "58ee2cb8-2fa8-456c-e774-268e90913599"
      },
      "source": [
        "fig, ax1 = plt.subplots()\n",
        "color = 'tab:red'\n",
        "ax1.plot(cost_list, color=color)\n",
        "ax1.set_xlabel('epoch', color=color)\n",
        "ax1.set_ylabel('Cost', color=color)\n",
        "ax1.tick_params(axis='y', color=color)\n",
        "    \n",
        "ax2 = ax1.twinx()  \n",
        "color = 'tab:blue'\n",
        "ax2.set_ylabel('accuracy', color=color) \n",
        "ax2.set_xlabel('epoch', color=color)\n",
        "ax2.plot( accuracy_list, color=color)\n",
        "ax2.tick_params(axis='y', color=color)\n",
        "fig.tight_layout()"
      ],
      "execution_count": null,
      "outputs": [
        {
          "output_type": "display_data",
          "data": {
            "image/png": "[encoded data removed]",
            "text/plain": [
              "<Figure size 432x288 with 2 Axes>"
            ]
          },
          "metadata": {
            "tags": [],
            "needs_background": "light"
          }
        }
      ]
    },
    {
      "cell_type": "markdown",
      "metadata": {
        "id": "ZxAHaVD1Eklo",
        "colab_type": "text"
      },
      "source": [
        "## Now we try deeper CNN such as Resnet18"
      ]
    },
    {
      "cell_type": "code",
      "metadata": {
        "id": "ihuCWqttCELT",
        "colab_type": "code",
        "colab": {
          "base_uri": "https://localhost:8080/",
          "height": 34
        },
        "outputId": "5f8201e6-bfc1-4e4d-e607-9a5fbeee7b3a"
      },
      "source": [
        "model=models.resnet18(pretrained=False)\n",
        "num_ftrs = model.fc.in_features\n",
        "\n",
        "model.fc = nn.Linear(num_ftrs, 10) #set the output\n",
        "model.conv1 = torch.nn.Conv2d(1, 64, kernel_size=(7, 7), stride=(2, 2), padding=(3, 3), bias=False) #Modify resnet for grayscale\n",
        "\n",
        "model = model.cuda()\n",
        "\n",
        "preprocess = transforms.Compose([\n",
        "    transforms.Resize(224),\n",
        "    transforms.ToTensor()\n",
        "])\n",
        "\n",
        "dataset_train_p = dsets.FashionMNIST(root='.fashion/data', train=True, download=True, transform=preprocess)\n",
        "dataset_val_p = dsets.FashionMNIST(root='.fashion/data', train=False, download=True, transform=preprocess)\n",
        "\n",
        "train_loader_p = torch.utils.data.DataLoader(dataset=dataset_train_p, batch_size=100 )\n",
        "test_loader_p = torch.utils.data.DataLoader(dataset=dataset_val_p, batch_size=100 )\n",
        "\n",
        "print(torch.cuda.get_device_name())"
      ],
      "execution_count": 21,
      "outputs": [
        {
          "output_type": "stream",
          "text": [
            "Tesla P100-PCIE-16GB\n"
          ],
          "name": "stdout"
        }
      ]
    },
    {
      "cell_type": "markdown",
      "metadata": {
        "id": "gNcVVNphKy3j",
        "colab_type": "text"
      },
      "source": [
        "And then as before we define the loss and the optimizer"
      ]
    },
    {
      "cell_type": "code",
      "metadata": {
        "id": "8u_vKV04FKd7",
        "colab_type": "code",
        "colab": {}
      },
      "source": [
        "criterion = nn.CrossEntropyLoss()\n",
        "learning_rate = 0.001\n",
        "optimizer = torch.optim.Adam(model.parameters(), lr = learning_rate, weight_decay=1e-8) #Adam"
      ],
      "execution_count": 23,
      "outputs": []
    },
    {
      "cell_type": "code",
      "metadata": {
        "id": "tMXEv-WkLADZ",
        "colab_type": "code",
        "colab": {}
      },
      "source": [
        "cost_list=[]\n",
        "accuracy_list=[]\n",
        "N_test=len(dataset_val_p)\n",
        "n_epochs=10\n",
        "for epoch in range(n_epochs):\n",
        "    cost=0\n",
        "    # Put the arch. in train mode\n",
        "    model.train()\n",
        "\n",
        "    # Loop over training data set\n",
        "    for x, y in train_loader_p:\n",
        "\n",
        "        #move on the GPU\n",
        "        x  = x.to('cuda:0')\n",
        "        y = y.to('cuda:0')\n",
        "\n",
        "        # Zero out the gradients\n",
        "        optimizer.zero_grad()\n",
        "\n",
        "        # Pass the batch to the architecture \n",
        "        z = model(x)\n",
        "\n",
        "        # Calculate the loss to reproduce the\n",
        "        # input at the output.\n",
        "        loss = criterion(z, y)\n",
        "\n",
        "        # Backpropagation \n",
        "        loss.backward()\n",
        "\n",
        "        # Update the network weights\n",
        "        optimizer.step()\n",
        "\n",
        "        # Add to the running loss\n",
        "        cost+=loss.item()\n",
        "\n",
        "    correct=0\n",
        "    #perform a prediction on the validation  data \n",
        "\n",
        "    # Set the model to evaluation mode\n",
        "    model.eval()\n",
        "\n",
        "    # Loop over validation data\n",
        "    for x_test, y_test in test_loader_p:\n",
        "        x_test  = x_test.to('cuda:0')\n",
        "        y_test = y_test.to('cuda:0')\n",
        "        z = model(x_test)\n",
        "        _, yhat = torch.max(z.data, 1)\n",
        "        correct += (yhat == y_test).sum().item()\n",
        "    accuracy = correct / N_test\n",
        "    accuracy_list.append(accuracy)\n",
        "    cost_list.append(cost)"
      ],
      "execution_count": 24,
      "outputs": []
    },
    {
      "cell_type": "code",
      "metadata": {
        "id": "2q-harYwL3I5",
        "colab_type": "code",
        "colab": {
          "base_uri": "https://localhost:8080/",
          "height": 297
        },
        "outputId": "c51742ac-ebac-4c85-c95d-96da3da0c1de"
      },
      "source": [
        "fig, ax1 = plt.subplots()\n",
        "color = 'tab:red'\n",
        "ax1.plot(cost_list, color=color)\n",
        "ax1.set_xlabel('epoch', color=color)\n",
        "ax1.set_ylabel('Cost', color=color)\n",
        "ax1.tick_params(axis='y', color=color)\n",
        "    \n",
        "ax2 = ax1.twinx()  \n",
        "color = 'tab:blue'\n",
        "ax2.set_ylabel('accuracy', color=color) \n",
        "ax2.set_xlabel('epoch', color=color)\n",
        "ax2.plot( accuracy_list, color=color)\n",
        "ax2.tick_params(axis='y', color=color)\n",
        "fig.tight_layout()"
      ],
      "execution_count": 25,
      "outputs": [
        {
          "output_type": "display_data",
          "data": {
            "image/png": "[encoded data removed]",
            "text/plain": [
              "<Figure size 432x288 with 2 Axes>"
            ]
          },
          "metadata": {
            "tags": [],
            "needs_background": "light"
          }
        }
      ]
    },
    {
      "cell_type": "code",
      "metadata": {
        "id": "jt6Z37HUMuEB",
        "colab_type": "code",
        "colab": {}
      },
      "source": [
        ""
      ],
      "execution_count": null,
      "outputs": []
    }
  ]
}