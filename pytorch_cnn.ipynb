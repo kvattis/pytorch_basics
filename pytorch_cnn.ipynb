{
  "nbformat": 4,
  "nbformat_minor": 0,
  "metadata": {
    "colab": {
      "name": "pytorch_cnn.ipynb",
      "provenance": [],
      "collapsed_sections": []
    },
    "kernelspec": {
      "name": "python3",
      "display_name": "Python 3"
    },
    "accelerator": "GPU",
    "widgets": {
      "application/vnd.jupyter.widget-state+json": {
        "a109eb4c411b4b91b0272c06a234e83a": {
          "model_module": "@jupyter-widgets/controls",
          "model_name": "HBoxModel",
          "state": {
            "_view_name": "HBoxView",
            "_dom_classes": [],
            "_model_name": "HBoxModel",
            "_view_module": "@jupyter-widgets/controls",
            "_model_module_version": "1.5.0",
            "_view_count": null,
            "_view_module_version": "1.5.0",
            "box_style": "",
            "layout": "IPY_MODEL_3371965a74484192b5ef147a7d4a76ff",
            "_model_module": "@jupyter-widgets/controls",
            "children": [
              "IPY_MODEL_cf997bf38fa04a9b80e965154731c65b",
              "IPY_MODEL_d5c252fd287e406d98fa0b851541f772"
            ]
          }
        },
        "3371965a74484192b5ef147a7d4a76ff": {
          "model_module": "@jupyter-widgets/base",
          "model_name": "LayoutModel",
          "state": {
            "_view_name": "LayoutView",
            "grid_template_rows": null,
            "right": null,
            "justify_content": null,
            "_view_module": "@jupyter-widgets/base",
            "overflow": null,
            "_model_module_version": "1.2.0",
            "_view_count": null,
            "flex_flow": null,
            "width": null,
            "min_width": null,
            "border": null,
            "align_items": null,
            "bottom": null,
            "_model_module": "@jupyter-widgets/base",
            "top": null,
            "grid_column": null,
            "overflow_y": null,
            "overflow_x": null,
            "grid_auto_flow": null,
            "grid_area": null,
            "grid_template_columns": null,
            "flex": null,
            "_model_name": "LayoutModel",
            "justify_items": null,
            "grid_row": null,
            "max_height": null,
            "align_content": null,
            "visibility": null,
            "align_self": null,
            "height": null,
            "min_height": null,
            "padding": null,
            "grid_auto_rows": null,
            "grid_gap": null,
            "max_width": null,
            "order": null,
            "_view_module_version": "1.2.0",
            "grid_template_areas": null,
            "object_position": null,
            "object_fit": null,
            "grid_auto_columns": null,
            "margin": null,
            "display": null,
            "left": null
          }
        },
        "cf997bf38fa04a9b80e965154731c65b": {
          "model_module": "@jupyter-widgets/controls",
          "model_name": "FloatProgressModel",
          "state": {
            "_view_name": "ProgressView",
            "style": "IPY_MODEL_41a90b9b768e428d97513d9ff87e31a3",
            "_dom_classes": [],
            "description": "",
            "_model_name": "FloatProgressModel",
            "bar_style": "success",
            "max": 1,
            "_view_module": "@jupyter-widgets/controls",
            "_model_module_version": "1.5.0",
            "value": 1,
            "_view_count": null,
            "_view_module_version": "1.5.0",
            "orientation": "horizontal",
            "min": 0,
            "description_tooltip": null,
            "_model_module": "@jupyter-widgets/controls",
            "layout": "IPY_MODEL_58999a8feb954ee5bd8ba07e1a7eadef"
          }
        },
        "d5c252fd287e406d98fa0b851541f772": {
          "model_module": "@jupyter-widgets/controls",
          "model_name": "HTMLModel",
          "state": {
            "_view_name": "HTMLView",
            "style": "IPY_MODEL_65bb85e0957f442fa19e08fd10ae546f",
            "_dom_classes": [],
            "description": "",
            "_model_name": "HTMLModel",
            "placeholder": "​",
            "_view_module": "@jupyter-widgets/controls",
            "_model_module_version": "1.5.0",
            "value": " 26427392/? [00:05&lt;00:00, 4736412.18it/s]",
            "_view_count": null,
            "_view_module_version": "1.5.0",
            "description_tooltip": null,
            "_model_module": "@jupyter-widgets/controls",
            "layout": "IPY_MODEL_67604d19d56c4a1386865d9f9db3cd54"
          }
        },
        "41a90b9b768e428d97513d9ff87e31a3": {
          "model_module": "@jupyter-widgets/controls",
          "model_name": "ProgressStyleModel",
          "state": {
            "_view_name": "StyleView",
            "_model_name": "ProgressStyleModel",
            "description_width": "initial",
            "_view_module": "@jupyter-widgets/base",
            "_model_module_version": "1.5.0",
            "_view_count": null,
            "_view_module_version": "1.2.0",
            "bar_color": null,
            "_model_module": "@jupyter-widgets/controls"
          }
        },
        "58999a8feb954ee5bd8ba07e1a7eadef": {
          "model_module": "@jupyter-widgets/base",
          "model_name": "LayoutModel",
          "state": {
            "_view_name": "LayoutView",
            "grid_template_rows": null,
            "right": null,
            "justify_content": null,
            "_view_module": "@jupyter-widgets/base",
            "overflow": null,
            "_model_module_version": "1.2.0",
            "_view_count": null,
            "flex_flow": null,
            "width": null,
            "min_width": null,
            "border": null,
            "align_items": null,
            "bottom": null,
            "_model_module": "@jupyter-widgets/base",
            "top": null,
            "grid_column": null,
            "overflow_y": null,
            "overflow_x": null,
            "grid_auto_flow": null,
            "grid_area": null,
            "grid_template_columns": null,
            "flex": null,
            "_model_name": "LayoutModel",
            "justify_items": null,
            "grid_row": null,
            "max_height": null,
            "align_content": null,
            "visibility": null,
            "align_self": null,
            "height": null,
            "min_height": null,
            "padding": null,
            "grid_auto_rows": null,
            "grid_gap": null,
            "max_width": null,
            "order": null,
            "_view_module_version": "1.2.0",
            "grid_template_areas": null,
            "object_position": null,
            "object_fit": null,
            "grid_auto_columns": null,
            "margin": null,
            "display": null,
            "left": null
          }
        },
        "65bb85e0957f442fa19e08fd10ae546f": {
          "model_module": "@jupyter-widgets/controls",
          "model_name": "DescriptionStyleModel",
          "state": {
            "_view_name": "StyleView",
            "_model_name": "DescriptionStyleModel",
            "description_width": "",
            "_view_module": "@jupyter-widgets/base",
            "_model_module_version": "1.5.0",
            "_view_count": null,
            "_view_module_version": "1.2.0",
            "_model_module": "@jupyter-widgets/controls"
          }
        },
        "67604d19d56c4a1386865d9f9db3cd54": {
          "model_module": "@jupyter-widgets/base",
          "model_name": "LayoutModel",
          "state": {
            "_view_name": "LayoutView",
            "grid_template_rows": null,
            "right": null,
            "justify_content": null,
            "_view_module": "@jupyter-widgets/base",
            "overflow": null,
            "_model_module_version": "1.2.0",
            "_view_count": null,
            "flex_flow": null,
            "width": null,
            "min_width": null,
            "border": null,
            "align_items": null,
            "bottom": null,
            "_model_module": "@jupyter-widgets/base",
            "top": null,
            "grid_column": null,
            "overflow_y": null,
            "overflow_x": null,
            "grid_auto_flow": null,
            "grid_area": null,
            "grid_template_columns": null,
            "flex": null,
            "_model_name": "LayoutModel",
            "justify_items": null,
            "grid_row": null,
            "max_height": null,
            "align_content": null,
            "visibility": null,
            "align_self": null,
            "height": null,
            "min_height": null,
            "padding": null,
            "grid_auto_rows": null,
            "grid_gap": null,
            "max_width": null,
            "order": null,
            "_view_module_version": "1.2.0",
            "grid_template_areas": null,
            "object_position": null,
            "object_fit": null,
            "grid_auto_columns": null,
            "margin": null,
            "display": null,
            "left": null
          }
        },
        "bd2863bd432444798f2b7e1c01e95114": {
          "model_module": "@jupyter-widgets/controls",
          "model_name": "HBoxModel",
          "state": {
            "_view_name": "HBoxView",
            "_dom_classes": [],
            "_model_name": "HBoxModel",
            "_view_module": "@jupyter-widgets/controls",
            "_model_module_version": "1.5.0",
            "_view_count": null,
            "_view_module_version": "1.5.0",
            "box_style": "",
            "layout": "IPY_MODEL_5127480c659549baae1107fd6ca85c77",
            "_model_module": "@jupyter-widgets/controls",
            "children": [
              "IPY_MODEL_7deeb7f156744964a6cdc918d474ce40",
              "IPY_MODEL_63d499bc4a3148cdb019ed44d6a06ff0"
            ]
          }
        },
        "5127480c659549baae1107fd6ca85c77": {
          "model_module": "@jupyter-widgets/base",
          "model_name": "LayoutModel",
          "state": {
            "_view_name": "LayoutView",
            "grid_template_rows": null,
            "right": null,
            "justify_content": null,
            "_view_module": "@jupyter-widgets/base",
            "overflow": null,
            "_model_module_version": "1.2.0",
            "_view_count": null,
            "flex_flow": null,
            "width": null,
            "min_width": null,
            "border": null,
            "align_items": null,
            "bottom": null,
            "_model_module": "@jupyter-widgets/base",
            "top": null,
            "grid_column": null,
            "overflow_y": null,
            "overflow_x": null,
            "grid_auto_flow": null,
            "grid_area": null,
            "grid_template_columns": null,
            "flex": null,
            "_model_name": "LayoutModel",
            "justify_items": null,
            "grid_row": null,
            "max_height": null,
            "align_content": null,
            "visibility": null,
            "align_self": null,
            "height": null,
            "min_height": null,
            "padding": null,
            "grid_auto_rows": null,
            "grid_gap": null,
            "max_width": null,
            "order": null,
            "_view_module_version": "1.2.0",
            "grid_template_areas": null,
            "object_position": null,
            "object_fit": null,
            "grid_auto_columns": null,
            "margin": null,
            "display": null,
            "left": null
          }
        },
        "7deeb7f156744964a6cdc918d474ce40": {
          "model_module": "@jupyter-widgets/controls",
          "model_name": "FloatProgressModel",
          "state": {
            "_view_name": "ProgressView",
            "style": "IPY_MODEL_01f8789264d0419b96991df661233ee3",
            "_dom_classes": [],
            "description": "",
            "_model_name": "FloatProgressModel",
            "bar_style": "success",
            "max": 1,
            "_view_module": "@jupyter-widgets/controls",
            "_model_module_version": "1.5.0",
            "value": 1,
            "_view_count": null,
            "_view_module_version": "1.5.0",
            "orientation": "horizontal",
            "min": 0,
            "description_tooltip": null,
            "_model_module": "@jupyter-widgets/controls",
            "layout": "IPY_MODEL_32ac61c9fdac4ecc8c0b9b97426831a5"
          }
        },
        "63d499bc4a3148cdb019ed44d6a06ff0": {
          "model_module": "@jupyter-widgets/controls",
          "model_name": "HTMLModel",
          "state": {
            "_view_name": "HTMLView",
            "style": "IPY_MODEL_1eaa38cef9a14b72b12c8e150d9a2963",
            "_dom_classes": [],
            "description": "",
            "_model_name": "HTMLModel",
            "placeholder": "​",
            "_view_module": "@jupyter-widgets/controls",
            "_model_module_version": "1.5.0",
            "value": " 32768/? [00:00&lt;00:00, 38263.62it/s]",
            "_view_count": null,
            "_view_module_version": "1.5.0",
            "description_tooltip": null,
            "_model_module": "@jupyter-widgets/controls",
            "layout": "IPY_MODEL_4414904a386448d8a4babbae68bb739f"
          }
        },
        "01f8789264d0419b96991df661233ee3": {
          "model_module": "@jupyter-widgets/controls",
          "model_name": "ProgressStyleModel",
          "state": {
            "_view_name": "StyleView",
            "_model_name": "ProgressStyleModel",
            "description_width": "initial",
            "_view_module": "@jupyter-widgets/base",
            "_model_module_version": "1.5.0",
            "_view_count": null,
            "_view_module_version": "1.2.0",
            "bar_color": null,
            "_model_module": "@jupyter-widgets/controls"
          }
        },
        "32ac61c9fdac4ecc8c0b9b97426831a5": {
          "model_module": "@jupyter-widgets/base",
          "model_name": "LayoutModel",
          "state": {
            "_view_name": "LayoutView",
            "grid_template_rows": null,
            "right": null,
            "justify_content": null,
            "_view_module": "@jupyter-widgets/base",
            "overflow": null,
            "_model_module_version": "1.2.0",
            "_view_count": null,
            "flex_flow": null,
            "width": null,
            "min_width": null,
            "border": null,
            "align_items": null,
            "bottom": null,
            "_model_module": "@jupyter-widgets/base",
            "top": null,
            "grid_column": null,
            "overflow_y": null,
            "overflow_x": null,
            "grid_auto_flow": null,
            "grid_area": null,
            "grid_template_columns": null,
            "flex": null,
            "_model_name": "LayoutModel",
            "justify_items": null,
            "grid_row": null,
            "max_height": null,
            "align_content": null,
            "visibility": null,
            "align_self": null,
            "height": null,
            "min_height": null,
            "padding": null,
            "grid_auto_rows": null,
            "grid_gap": null,
            "max_width": null,
            "order": null,
            "_view_module_version": "1.2.0",
            "grid_template_areas": null,
            "object_position": null,
            "object_fit": null,
            "grid_auto_columns": null,
            "margin": null,
            "display": null,
            "left": null
          }
        },
        "1eaa38cef9a14b72b12c8e150d9a2963": {
          "model_module": "@jupyter-widgets/controls",
          "model_name": "DescriptionStyleModel",
          "state": {
            "_view_name": "StyleView",
            "_model_name": "DescriptionStyleModel",
            "description_width": "",
            "_view_module": "@jupyter-widgets/base",
            "_model_module_version": "1.5.0",
            "_view_count": null,
            "_view_module_version": "1.2.0",
            "_model_module": "@jupyter-widgets/controls"
          }
        },
        "4414904a386448d8a4babbae68bb739f": {
          "model_module": "@jupyter-widgets/base",
          "model_name": "LayoutModel",
          "state": {
            "_view_name": "LayoutView",
            "grid_template_rows": null,
            "right": null,
            "justify_content": null,
            "_view_module": "@jupyter-widgets/base",
            "overflow": null,
            "_model_module_version": "1.2.0",
            "_view_count": null,
            "flex_flow": null,
            "width": null,
            "min_width": null,
            "border": null,
            "align_items": null,
            "bottom": null,
            "_model_module": "@jupyter-widgets/base",
            "top": null,
            "grid_column": null,
            "overflow_y": null,
            "overflow_x": null,
            "grid_auto_flow": null,
            "grid_area": null,
            "grid_template_columns": null,
            "flex": null,
            "_model_name": "LayoutModel",
            "justify_items": null,
            "grid_row": null,
            "max_height": null,
            "align_content": null,
            "visibility": null,
            "align_self": null,
            "height": null,
            "min_height": null,
            "padding": null,
            "grid_auto_rows": null,
            "grid_gap": null,
            "max_width": null,
            "order": null,
            "_view_module_version": "1.2.0",
            "grid_template_areas": null,
            "object_position": null,
            "object_fit": null,
            "grid_auto_columns": null,
            "margin": null,
            "display": null,
            "left": null
          }
        },
        "56a3b8072df644a68ebb69d347cb72e7": {
          "model_module": "@jupyter-widgets/controls",
          "model_name": "HBoxModel",
          "state": {
            "_view_name": "HBoxView",
            "_dom_classes": [],
            "_model_name": "HBoxModel",
            "_view_module": "@jupyter-widgets/controls",
            "_model_module_version": "1.5.0",
            "_view_count": null,
            "_view_module_version": "1.5.0",
            "box_style": "",
            "layout": "IPY_MODEL_396e13307e0b473598648e49a1d4b6ed",
            "_model_module": "@jupyter-widgets/controls",
            "children": [
              "IPY_MODEL_11e81166263b4f4eb0caba4180e02c89",
              "IPY_MODEL_23364d96984a42228a800aa4f71d6a0e"
            ]
          }
        },
        "396e13307e0b473598648e49a1d4b6ed": {
          "model_module": "@jupyter-widgets/base",
          "model_name": "LayoutModel",
          "state": {
            "_view_name": "LayoutView",
            "grid_template_rows": null,
            "right": null,
            "justify_content": null,
            "_view_module": "@jupyter-widgets/base",
            "overflow": null,
            "_model_module_version": "1.2.0",
            "_view_count": null,
            "flex_flow": null,
            "width": null,
            "min_width": null,
            "border": null,
            "align_items": null,
            "bottom": null,
            "_model_module": "@jupyter-widgets/base",
            "top": null,
            "grid_column": null,
            "overflow_y": null,
            "overflow_x": null,
            "grid_auto_flow": null,
            "grid_area": null,
            "grid_template_columns": null,
            "flex": null,
            "_model_name": "LayoutModel",
            "justify_items": null,
            "grid_row": null,
            "max_height": null,
            "align_content": null,
            "visibility": null,
            "align_self": null,
            "height": null,
            "min_height": null,
            "padding": null,
            "grid_auto_rows": null,
            "grid_gap": null,
            "max_width": null,
            "order": null,
            "_view_module_version": "1.2.0",
            "grid_template_areas": null,
            "object_position": null,
            "object_fit": null,
            "grid_auto_columns": null,
            "margin": null,
            "display": null,
            "left": null
          }
        },
        "11e81166263b4f4eb0caba4180e02c89": {
          "model_module": "@jupyter-widgets/controls",
          "model_name": "FloatProgressModel",
          "state": {
            "_view_name": "ProgressView",
            "style": "IPY_MODEL_3e462b5178c34470a6e2dd0f0ce0de2c",
            "_dom_classes": [],
            "description": "",
            "_model_name": "FloatProgressModel",
            "bar_style": "success",
            "max": 1,
            "_view_module": "@jupyter-widgets/controls",
            "_model_module_version": "1.5.0",
            "value": 1,
            "_view_count": null,
            "_view_module_version": "1.5.0",
            "orientation": "horizontal",
            "min": 0,
            "description_tooltip": null,
            "_model_module": "@jupyter-widgets/controls",
            "layout": "IPY_MODEL_c46ea1170ff94a5da7a4b0b9f2585f07"
          }
        },
        "23364d96984a42228a800aa4f71d6a0e": {
          "model_module": "@jupyter-widgets/controls",
          "model_name": "HTMLModel",
          "state": {
            "_view_name": "HTMLView",
            "style": "IPY_MODEL_a801f826810f4cdab24ef37f3810d76f",
            "_dom_classes": [],
            "description": "",
            "_model_name": "HTMLModel",
            "placeholder": "​",
            "_view_module": "@jupyter-widgets/controls",
            "_model_module_version": "1.5.0",
            "value": " 4423680/? [00:02&lt;00:00, 1517693.78it/s]",
            "_view_count": null,
            "_view_module_version": "1.5.0",
            "description_tooltip": null,
            "_model_module": "@jupyter-widgets/controls",
            "layout": "IPY_MODEL_4543996d4ab94386b6a1b59e46df4f24"
          }
        },
        "3e462b5178c34470a6e2dd0f0ce0de2c": {
          "model_module": "@jupyter-widgets/controls",
          "model_name": "ProgressStyleModel",
          "state": {
            "_view_name": "StyleView",
            "_model_name": "ProgressStyleModel",
            "description_width": "initial",
            "_view_module": "@jupyter-widgets/base",
            "_model_module_version": "1.5.0",
            "_view_count": null,
            "_view_module_version": "1.2.0",
            "bar_color": null,
            "_model_module": "@jupyter-widgets/controls"
          }
        },
        "c46ea1170ff94a5da7a4b0b9f2585f07": {
          "model_module": "@jupyter-widgets/base",
          "model_name": "LayoutModel",
          "state": {
            "_view_name": "LayoutView",
            "grid_template_rows": null,
            "right": null,
            "justify_content": null,
            "_view_module": "@jupyter-widgets/base",
            "overflow": null,
            "_model_module_version": "1.2.0",
            "_view_count": null,
            "flex_flow": null,
            "width": null,
            "min_width": null,
            "border": null,
            "align_items": null,
            "bottom": null,
            "_model_module": "@jupyter-widgets/base",
            "top": null,
            "grid_column": null,
            "overflow_y": null,
            "overflow_x": null,
            "grid_auto_flow": null,
            "grid_area": null,
            "grid_template_columns": null,
            "flex": null,
            "_model_name": "LayoutModel",
            "justify_items": null,
            "grid_row": null,
            "max_height": null,
            "align_content": null,
            "visibility": null,
            "align_self": null,
            "height": null,
            "min_height": null,
            "padding": null,
            "grid_auto_rows": null,
            "grid_gap": null,
            "max_width": null,
            "order": null,
            "_view_module_version": "1.2.0",
            "grid_template_areas": null,
            "object_position": null,
            "object_fit": null,
            "grid_auto_columns": null,
            "margin": null,
            "display": null,
            "left": null
          }
        },
        "a801f826810f4cdab24ef37f3810d76f": {
          "model_module": "@jupyter-widgets/controls",
          "model_name": "DescriptionStyleModel",
          "state": {
            "_view_name": "StyleView",
            "_model_name": "DescriptionStyleModel",
            "description_width": "",
            "_view_module": "@jupyter-widgets/base",
            "_model_module_version": "1.5.0",
            "_view_count": null,
            "_view_module_version": "1.2.0",
            "_model_module": "@jupyter-widgets/controls"
          }
        },
        "4543996d4ab94386b6a1b59e46df4f24": {
          "model_module": "@jupyter-widgets/base",
          "model_name": "LayoutModel",
          "state": {
            "_view_name": "LayoutView",
            "grid_template_rows": null,
            "right": null,
            "justify_content": null,
            "_view_module": "@jupyter-widgets/base",
            "overflow": null,
            "_model_module_version": "1.2.0",
            "_view_count": null,
            "flex_flow": null,
            "width": null,
            "min_width": null,
            "border": null,
            "align_items": null,
            "bottom": null,
            "_model_module": "@jupyter-widgets/base",
            "top": null,
            "grid_column": null,
            "overflow_y": null,
            "overflow_x": null,
            "grid_auto_flow": null,
            "grid_area": null,
            "grid_template_columns": null,
            "flex": null,
            "_model_name": "LayoutModel",
            "justify_items": null,
            "grid_row": null,
            "max_height": null,
            "align_content": null,
            "visibility": null,
            "align_self": null,
            "height": null,
            "min_height": null,
            "padding": null,
            "grid_auto_rows": null,
            "grid_gap": null,
            "max_width": null,
            "order": null,
            "_view_module_version": "1.2.0",
            "grid_template_areas": null,
            "object_position": null,
            "object_fit": null,
            "grid_auto_columns": null,
            "margin": null,
            "display": null,
            "left": null
          }
        },
        "e350d7461cef48fdb8efdfea79364110": {
          "model_module": "@jupyter-widgets/controls",
          "model_name": "HBoxModel",
          "state": {
            "_view_name": "HBoxView",
            "_dom_classes": [],
            "_model_name": "HBoxModel",
            "_view_module": "@jupyter-widgets/controls",
            "_model_module_version": "1.5.0",
            "_view_count": null,
            "_view_module_version": "1.5.0",
            "box_style": "",
            "layout": "IPY_MODEL_aed21a00547a4c43850aad3a24289581",
            "_model_module": "@jupyter-widgets/controls",
            "children": [
              "IPY_MODEL_6d6078fdd5aa461697e89957cbedb538",
              "IPY_MODEL_a3055ae53d3b4ae1977ea8bb30780e5f"
            ]
          }
        },
        "aed21a00547a4c43850aad3a24289581": {
          "model_module": "@jupyter-widgets/base",
          "model_name": "LayoutModel",
          "state": {
            "_view_name": "LayoutView",
            "grid_template_rows": null,
            "right": null,
            "justify_content": null,
            "_view_module": "@jupyter-widgets/base",
            "overflow": null,
            "_model_module_version": "1.2.0",
            "_view_count": null,
            "flex_flow": null,
            "width": null,
            "min_width": null,
            "border": null,
            "align_items": null,
            "bottom": null,
            "_model_module": "@jupyter-widgets/base",
            "top": null,
            "grid_column": null,
            "overflow_y": null,
            "overflow_x": null,
            "grid_auto_flow": null,
            "grid_area": null,
            "grid_template_columns": null,
            "flex": null,
            "_model_name": "LayoutModel",
            "justify_items": null,
            "grid_row": null,
            "max_height": null,
            "align_content": null,
            "visibility": null,
            "align_self": null,
            "height": null,
            "min_height": null,
            "padding": null,
            "grid_auto_rows": null,
            "grid_gap": null,
            "max_width": null,
            "order": null,
            "_view_module_version": "1.2.0",
            "grid_template_areas": null,
            "object_position": null,
            "object_fit": null,
            "grid_auto_columns": null,
            "margin": null,
            "display": null,
            "left": null
          }
        },
        "6d6078fdd5aa461697e89957cbedb538": {
          "model_module": "@jupyter-widgets/controls",
          "model_name": "FloatProgressModel",
          "state": {
            "_view_name": "ProgressView",
            "style": "IPY_MODEL_67fcc233d69341a99b17dcadc4d2ee58",
            "_dom_classes": [],
            "description": "",
            "_model_name": "FloatProgressModel",
            "bar_style": "success",
            "max": 1,
            "_view_module": "@jupyter-widgets/controls",
            "_model_module_version": "1.5.0",
            "value": 1,
            "_view_count": null,
            "_view_module_version": "1.5.0",
            "orientation": "horizontal",
            "min": 0,
            "description_tooltip": null,
            "_model_module": "@jupyter-widgets/controls",
            "layout": "IPY_MODEL_ab4440efd44448a3b872342e03eb0a4c"
          }
        },
        "a3055ae53d3b4ae1977ea8bb30780e5f": {
          "model_module": "@jupyter-widgets/controls",
          "model_name": "HTMLModel",
          "state": {
            "_view_name": "HTMLView",
            "style": "IPY_MODEL_7d11228aee7b4056b3c65f9ee68b6412",
            "_dom_classes": [],
            "description": "",
            "_model_name": "HTMLModel",
            "placeholder": "​",
            "_view_module": "@jupyter-widgets/controls",
            "_model_module_version": "1.5.0",
            "value": " 8192/? [00:01&lt;00:00, 4854.78it/s]",
            "_view_count": null,
            "_view_module_version": "1.5.0",
            "description_tooltip": null,
            "_model_module": "@jupyter-widgets/controls",
            "layout": "IPY_MODEL_b904b59219dd46a083e47554b993fad5"
          }
        },
        "67fcc233d69341a99b17dcadc4d2ee58": {
          "model_module": "@jupyter-widgets/controls",
          "model_name": "ProgressStyleModel",
          "state": {
            "_view_name": "StyleView",
            "_model_name": "ProgressStyleModel",
            "description_width": "initial",
            "_view_module": "@jupyter-widgets/base",
            "_model_module_version": "1.5.0",
            "_view_count": null,
            "_view_module_version": "1.2.0",
            "bar_color": null,
            "_model_module": "@jupyter-widgets/controls"
          }
        },
        "ab4440efd44448a3b872342e03eb0a4c": {
          "model_module": "@jupyter-widgets/base",
          "model_name": "LayoutModel",
          "state": {
            "_view_name": "LayoutView",
            "grid_template_rows": null,
            "right": null,
            "justify_content": null,
            "_view_module": "@jupyter-widgets/base",
            "overflow": null,
            "_model_module_version": "1.2.0",
            "_view_count": null,
            "flex_flow": null,
            "width": null,
            "min_width": null,
            "border": null,
            "align_items": null,
            "bottom": null,
            "_model_module": "@jupyter-widgets/base",
            "top": null,
            "grid_column": null,
            "overflow_y": null,
            "overflow_x": null,
            "grid_auto_flow": null,
            "grid_area": null,
            "grid_template_columns": null,
            "flex": null,
            "_model_name": "LayoutModel",
            "justify_items": null,
            "grid_row": null,
            "max_height": null,
            "align_content": null,
            "visibility": null,
            "align_self": null,
            "height": null,
            "min_height": null,
            "padding": null,
            "grid_auto_rows": null,
            "grid_gap": null,
            "max_width": null,
            "order": null,
            "_view_module_version": "1.2.0",
            "grid_template_areas": null,
            "object_position": null,
            "object_fit": null,
            "grid_auto_columns": null,
            "margin": null,
            "display": null,
            "left": null
          }
        },
        "7d11228aee7b4056b3c65f9ee68b6412": {
          "model_module": "@jupyter-widgets/controls",
          "model_name": "DescriptionStyleModel",
          "state": {
            "_view_name": "StyleView",
            "_model_name": "DescriptionStyleModel",
            "description_width": "",
            "_view_module": "@jupyter-widgets/base",
            "_model_module_version": "1.5.0",
            "_view_count": null,
            "_view_module_version": "1.2.0",
            "_model_module": "@jupyter-widgets/controls"
          }
        },
        "b904b59219dd46a083e47554b993fad5": {
          "model_module": "@jupyter-widgets/base",
          "model_name": "LayoutModel",
          "state": {
            "_view_name": "LayoutView",
            "grid_template_rows": null,
            "right": null,
            "justify_content": null,
            "_view_module": "@jupyter-widgets/base",
            "overflow": null,
            "_model_module_version": "1.2.0",
            "_view_count": null,
            "flex_flow": null,
            "width": null,
            "min_width": null,
            "border": null,
            "align_items": null,
            "bottom": null,
            "_model_module": "@jupyter-widgets/base",
            "top": null,
            "grid_column": null,
            "overflow_y": null,
            "overflow_x": null,
            "grid_auto_flow": null,
            "grid_area": null,
            "grid_template_columns": null,
            "flex": null,
            "_model_name": "LayoutModel",
            "justify_items": null,
            "grid_row": null,
            "max_height": null,
            "align_content": null,
            "visibility": null,
            "align_self": null,
            "height": null,
            "min_height": null,
            "padding": null,
            "grid_auto_rows": null,
            "grid_gap": null,
            "max_width": null,
            "order": null,
            "_view_module_version": "1.2.0",
            "grid_template_areas": null,
            "object_position": null,
            "object_fit": null,
            "grid_auto_columns": null,
            "margin": null,
            "display": null,
            "left": null
          }
        }
      }
    }
  },
  "cells": [
    {
      "cell_type": "markdown",
      "metadata": {
        "id": "Z2lvaBdTtew4",
        "colab_type": "text"
      },
      "source": [
        "# CNN using PyTorch"
      ]
    },
    {
      "cell_type": "markdown",
      "metadata": {
        "id": "_Qji41layyc0",
        "colab_type": "text"
      },
      "source": [
        "We import the necessary libraries and packages "
      ]
    },
    {
      "cell_type": "code",
      "metadata": {
        "id": "82oVcijFy82r",
        "colab_type": "code",
        "colab": {}
      },
      "source": [
        "from torch.utils.data import Dataset, DataLoader\n",
        "\n",
        "from torchvision import transforms\n",
        "import torch \n",
        "import torch.nn as nn\n",
        "import torchvision.transforms as transforms\n",
        "import torchvision.models as models\n",
        "import torchvision.datasets as dsets\n",
        "torch.manual_seed(0)\n",
        "\n",
        "from matplotlib.pyplot import imshow\n",
        "import matplotlib.pylab as plt\n",
        "\n",
        "from PIL import Image"
      ],
      "execution_count": 3,
      "outputs": []
    },
    {
      "cell_type": "markdown",
      "metadata": {
        "id": "BI9I6iYcuzUr",
        "colab_type": "text"
      },
      "source": [
        "We will load the Fashion-MNIST"
      ]
    },
    {
      "cell_type": "code",
      "metadata": {
        "id": "Vritm5rqtq5n",
        "colab_type": "code",
        "colab": {
          "base_uri": "https://localhost:8080/",
          "height": 386,
          "referenced_widgets": [
            "a109eb4c411b4b91b0272c06a234e83a",
            "3371965a74484192b5ef147a7d4a76ff",
            "cf997bf38fa04a9b80e965154731c65b",
            "d5c252fd287e406d98fa0b851541f772",
            "41a90b9b768e428d97513d9ff87e31a3",
            "58999a8feb954ee5bd8ba07e1a7eadef",
            "65bb85e0957f442fa19e08fd10ae546f",
            "67604d19d56c4a1386865d9f9db3cd54",
            "bd2863bd432444798f2b7e1c01e95114",
            "5127480c659549baae1107fd6ca85c77",
            "7deeb7f156744964a6cdc918d474ce40",
            "63d499bc4a3148cdb019ed44d6a06ff0",
            "01f8789264d0419b96991df661233ee3",
            "32ac61c9fdac4ecc8c0b9b97426831a5",
            "1eaa38cef9a14b72b12c8e150d9a2963",
            "4414904a386448d8a4babbae68bb739f",
            "56a3b8072df644a68ebb69d347cb72e7",
            "396e13307e0b473598648e49a1d4b6ed",
            "11e81166263b4f4eb0caba4180e02c89",
            "23364d96984a42228a800aa4f71d6a0e",
            "3e462b5178c34470a6e2dd0f0ce0de2c",
            "c46ea1170ff94a5da7a4b0b9f2585f07",
            "a801f826810f4cdab24ef37f3810d76f",
            "4543996d4ab94386b6a1b59e46df4f24",
            "e350d7461cef48fdb8efdfea79364110",
            "aed21a00547a4c43850aad3a24289581",
            "6d6078fdd5aa461697e89957cbedb538",
            "a3055ae53d3b4ae1977ea8bb30780e5f",
            "67fcc233d69341a99b17dcadc4d2ee58",
            "ab4440efd44448a3b872342e03eb0a4c",
            "7d11228aee7b4056b3c65f9ee68b6412",
            "b904b59219dd46a083e47554b993fad5"
          ]
        },
        "outputId": "971253b2-af43-4674-a805-c5df10a05cba"
      },
      "source": [
        "img_size = 16\n",
        "\n",
        "composed = transforms.Compose([transforms.Resize((img_size, img_size)), transforms.ToTensor()])\n",
        "\n",
        "dataset_train = dsets.FashionMNIST(root='.fashion/data', train=True, download=True, transform=composed)\n",
        "dataset_val = dsets.FashionMNIST(root='.fashion/data', train=False, download=True, transform=composed)"
      ],
      "execution_count": 4,
      "outputs": [
        {
          "output_type": "stream",
          "text": [
            "Downloading http://fashion-mnist.s3-website.eu-central-1.amazonaws.com/train-images-idx3-ubyte.gz to .fashion/data/FashionMNIST/raw/train-images-idx3-ubyte.gz\n"
          ],
          "name": "stdout"
        },
        {
          "output_type": "display_data",
          "data": {
            "application/vnd.jupyter.widget-view+json": {
              "model_id": "a109eb4c411b4b91b0272c06a234e83a",
              "version_minor": 0,
              "version_major": 2
            },
            "text/plain": [
              "HBox(children=(FloatProgress(value=1.0, bar_style='info', max=1.0), HTML(value='')))"
            ]
          },
          "metadata": {
            "tags": []
          }
        },
        {
          "output_type": "stream",
          "text": [
            "Extracting .fashion/data/FashionMNIST/raw/train-images-idx3-ubyte.gz to .fashion/data/FashionMNIST/raw\n",
            "Downloading http://fashion-mnist.s3-website.eu-central-1.amazonaws.com/train-labels-idx1-ubyte.gz to .fashion/data/FashionMNIST/raw/train-labels-idx1-ubyte.gz\n"
          ],
          "name": "stdout"
        },
        {
          "output_type": "display_data",
          "data": {
            "application/vnd.jupyter.widget-view+json": {
              "model_id": "bd2863bd432444798f2b7e1c01e95114",
              "version_minor": 0,
              "version_major": 2
            },
            "text/plain": [
              "HBox(children=(FloatProgress(value=1.0, bar_style='info', max=1.0), HTML(value='')))"
            ]
          },
          "metadata": {
            "tags": []
          }
        },
        {
          "output_type": "stream",
          "text": [
            "Extracting .fashion/data/FashionMNIST/raw/train-labels-idx1-ubyte.gz to .fashion/data/FashionMNIST/raw\n",
            "Downloading http://fashion-mnist.s3-website.eu-central-1.amazonaws.com/t10k-images-idx3-ubyte.gz to .fashion/data/FashionMNIST/raw/t10k-images-idx3-ubyte.gz\n"
          ],
          "name": "stdout"
        },
        {
          "output_type": "display_data",
          "data": {
            "application/vnd.jupyter.widget-view+json": {
              "model_id": "56a3b8072df644a68ebb69d347cb72e7",
              "version_minor": 0,
              "version_major": 2
            },
            "text/plain": [
              "HBox(children=(FloatProgress(value=1.0, bar_style='info', max=1.0), HTML(value='')))"
            ]
          },
          "metadata": {
            "tags": []
          }
        },
        {
          "output_type": "stream",
          "text": [
            "\n",
            "Extracting .fashion/data/FashionMNIST/raw/t10k-images-idx3-ubyte.gz to .fashion/data/FashionMNIST/raw\n",
            "Downloading http://fashion-mnist.s3-website.eu-central-1.amazonaws.com/t10k-labels-idx1-ubyte.gz to .fashion/data/FashionMNIST/raw/t10k-labels-idx1-ubyte.gz\n"
          ],
          "name": "stdout"
        },
        {
          "output_type": "display_data",
          "data": {
            "application/vnd.jupyter.widget-view+json": {
              "model_id": "e350d7461cef48fdb8efdfea79364110",
              "version_minor": 0,
              "version_major": 2
            },
            "text/plain": [
              "HBox(children=(FloatProgress(value=1.0, bar_style='info', max=1.0), HTML(value='')))"
            ]
          },
          "metadata": {
            "tags": []
          }
        },
        {
          "output_type": "stream",
          "text": [
            "Extracting .fashion/data/FashionMNIST/raw/t10k-labels-idx1-ubyte.gz to .fashion/data/FashionMNIST/raw\n",
            "Processing...\n",
            "Done!\n"
          ],
          "name": "stdout"
        },
        {
          "output_type": "stream",
          "text": [
            "/usr/local/lib/python3.6/dist-packages/torchvision/datasets/mnist.py:469: UserWarning: The given NumPy array is not writeable, and PyTorch does not support non-writeable tensors. This means you can write to the underlying (supposedly non-writeable) NumPy array using the tensor. You may want to copy the array to protect its data or make it writeable before converting it to a tensor. This type of warning will be suppressed for the rest of this program. (Triggered internally at  /pytorch/torch/csrc/utils/tensor_numpy.cpp:141.)\n",
            "  return torch.from_numpy(parsed.astype(m[2], copy=False)).view(*s)\n"
          ],
          "name": "stderr"
        }
      ]
    },
    {
      "cell_type": "markdown",
      "metadata": {
        "id": "3ST6LPSdzhtL",
        "colab_type": "text"
      },
      "source": [
        "We take a look at the data to make sure everything looks ok"
      ]
    },
    {
      "cell_type": "code",
      "metadata": {
        "id": "moxwBIAIzbXQ",
        "colab_type": "code",
        "colab": {}
      },
      "source": [
        "def img_show(data_sample):\n",
        "    plt.imshow(data_sample[0].numpy().reshape(img_size, img_size), cmap='gray')\n",
        "    plt.title('y = '+ str(data_sample[1]))"
      ],
      "execution_count": 5,
      "outputs": []
    },
    {
      "cell_type": "markdown",
      "metadata": {
        "id": "HS-YKn0d0QnY",
        "colab_type": "text"
      },
      "source": [
        "Training set:"
      ]
    },
    {
      "cell_type": "code",
      "metadata": {
        "id": "K3GT5ILT0TSa",
        "colab_type": "code",
        "colab": {
          "base_uri": "https://localhost:8080/",
          "height": 860
        },
        "outputId": "5f50fe42-5d7c-49df-ad94-84a72c223cd4"
      },
      "source": [
        "for n,data_sample in enumerate(dataset_train):\n",
        "\n",
        "    img_show(data_sample)\n",
        "    plt.show()\n",
        "    if n==2:\n",
        "        break "
      ],
      "execution_count": 6,
      "outputs": [
        {
          "output_type": "stream",
          "text": [
            "\n",
            "\n",
            "\n"
          ],
          "name": "stdout"
        },
        {
          "output_type": "display_data",
          "data": {
            "image/png": "[encoded data removed]",
            "text/plain": [
              "<Figure size 432x288 with 1 Axes>"
            ]
          },
          "metadata": {
            "tags": [],
            "needs_background": "light"
          }
        },
        {
          "output_type": "display_data",
          "data": {
            "image/png": "[encoded data removed]",
            "text/plain": [
              "<Figure size 432x288 with 1 Axes>"
            ]
          },
          "metadata": {
            "tags": [],
            "needs_background": "light"
          }
        },
        {
          "output_type": "display_data",
          "data": {
            "image/png": "[encoded data removed]",
            "text/plain": [
              "<Figure size 432x288 with 1 Axes>"
            ]
          },
          "metadata": {
            "tags": [],
            "needs_background": "light"
          }
        }
      ]
    },
    {
      "cell_type": "markdown",
      "metadata": {
        "id": "oTSl2yXN0Y0F",
        "colab_type": "text"
      },
      "source": [
        "Validation set:"
      ]
    },
    {
      "cell_type": "code",
      "metadata": {
        "id": "AU9gsv2gz38-",
        "colab_type": "code",
        "colab": {
          "base_uri": "https://localhost:8080/",
          "height": 809
        },
        "outputId": "29067f6a-724c-4d9d-8ccd-6f6c4bb61c69"
      },
      "source": [
        "for n,data_sample in enumerate(dataset_val):\n",
        "\n",
        "    img_show(data_sample)\n",
        "    plt.show()\n",
        "    if n==2:\n",
        "        break "
      ],
      "execution_count": 7,
      "outputs": [
        {
          "output_type": "display_data",
          "data": {
            "image/png": "[encoded data removed]",
            "text/plain": [
              "<Figure size 432x288 with 1 Axes>"
            ]
          },
          "metadata": {
            "tags": [],
            "needs_background": "light"
          }
        },
        {
          "output_type": "display_data",
          "data": {
            "image/png": "[encoded data removed]",
            "text/plain": [
              "<Figure size 432x288 with 1 Axes>"
            ]
          },
          "metadata": {
            "tags": [],
            "needs_background": "light"
          }
        },
        {
          "output_type": "display_data",
          "data": {
            "image/png": "[encoded data removed]",
            "text/plain": [
              "<Figure size 432x288 with 1 Axes>"
            ]
          },
          "metadata": {
            "tags": [],
            "needs_background": "light"
          }
        }
      ]
    },
    {
      "cell_type": "markdown",
      "metadata": {
        "id": "DwnopWkk1s10",
        "colab_type": "text"
      },
      "source": [
        "We load the data into the DataLoader"
      ]
    },
    {
      "cell_type": "code",
      "metadata": {
        "id": "PPSvViXd11V3",
        "colab_type": "code",
        "colab": {}
      },
      "source": [
        "train_loader = torch.utils.data.DataLoader(dataset=dataset_train, batch_size=100 )\n",
        "test_loader = torch.utils.data.DataLoader(dataset=dataset_val, batch_size=100 )"
      ],
      "execution_count": 8,
      "outputs": []
    },
    {
      "cell_type": "markdown",
      "metadata": {
        "id": "iobsEkM34BI4",
        "colab_type": "text"
      },
      "source": [
        "## Simple CNN"
      ]
    },
    {
      "cell_type": "markdown",
      "metadata": {
        "id": "WekgCZSW0laC",
        "colab_type": "text"
      },
      "source": [
        "We can now start building a simple CNN "
      ]
    },
    {
      "cell_type": "code",
      "metadata": {
        "id": "aWjtsQRh0A66",
        "colab_type": "code",
        "colab": {}
      },
      "source": [
        "class CNN(nn.Module):\n",
        "    \n",
        "    # Contructor\n",
        "    def __init__(self, out_1=16, out_2=32,number_of_classes=10):\n",
        "        super(CNN, self).__init__()\n",
        "        # First convl. layer + a maxpool layer\n",
        "        self.cnn1 = nn.Conv2d(in_channels=1, out_channels=out_1, kernel_size=5, padding=2)\n",
        "        self.maxpool1=nn.MaxPool2d(kernel_size=2)\n",
        "\n",
        "        # Second convl. layer + a maxpool layer\n",
        "        self.cnn2 = nn.Conv2d(in_channels=out_1, out_channels=out_2, kernel_size=5, stride=1, padding=2)\n",
        "        self.maxpool2=nn.MaxPool2d(kernel_size=2)\n",
        "        \n",
        "        #Final linear layer\n",
        "        self.fc1 = nn.Linear(out_2 * 4 * 4, number_of_classes)\n",
        "    \n",
        "    # Prediction\n",
        "    def forward(self, x):\n",
        "        x = self.cnn1(x)\n",
        "        x = torch.relu(x)\n",
        "        x = self.maxpool1(x)\n",
        "        x = self.cnn2(x)\n",
        "        x = torch.relu(x)\n",
        "        x = self.maxpool2(x)\n",
        "        x = x.view(x.size(0), -1)\n",
        "        x = self.fc1(x)\n",
        "        return x"
      ],
      "execution_count": 19,
      "outputs": []
    },
    {
      "cell_type": "markdown",
      "metadata": {
        "id": "OJmpkHjY2AXR",
        "colab_type": "text"
      },
      "source": [
        "We can now define the model, the loos criterion and the optimizer to be used for the learning"
      ]
    },
    {
      "cell_type": "code",
      "metadata": {
        "id": "hgAAJyRC1nzB",
        "colab_type": "code",
        "colab": {}
      },
      "source": [
        "model = CNN(out_1=16, out_2=32,number_of_classes=10)\n",
        "criterion = nn.CrossEntropyLoss()\n",
        "learning_rate = 0.1\n",
        "optimizer = torch.optim.SGD(model.parameters(), lr = learning_rate) #Stochstic gradient decent "
      ],
      "execution_count": 20,
      "outputs": []
    },
    {
      "cell_type": "markdown",
      "metadata": {
        "id": "Kk42OBRK2Xzm",
        "colab_type": "text"
      },
      "source": [
        "And train the model"
      ]
    },
    {
      "cell_type": "code",
      "metadata": {
        "id": "u-nyCj2y2Us6",
        "colab_type": "code",
        "colab": {}
      },
      "source": [
        "import time\n",
        "start_time = time.time()\n",
        "\n",
        "cost_list=[]\n",
        "accuracy_list=[]\n",
        "N_test=len(dataset_val)\n",
        "n_epochs=10\n",
        "for epoch in range(n_epochs):\n",
        "    cost=0\n",
        "    # Put the arch. in train mode\n",
        "    model.train()\n",
        "\n",
        "    # Loop over training data set\n",
        "    for x, y in train_loader:\n",
        "\n",
        "        # Zero out the gradients\n",
        "        optimizer.zero_grad()\n",
        "\n",
        "        # Pass the batch to the architecture \n",
        "        z = model(x)\n",
        "\n",
        "        # Calculate the loss to reproduce the\n",
        "        # input at the output.\n",
        "        loss = criterion(z, y)\n",
        "\n",
        "        # Backpropagation \n",
        "        loss.backward()\n",
        "\n",
        "        # Update the network weights\n",
        "        optimizer.step()\n",
        "\n",
        "        # Add to the running loss\n",
        "        cost+=loss.item()\n",
        "\n",
        "    correct=0\n",
        "    #perform a prediction on the validation  data \n",
        "\n",
        "    # Set the model to evaluation mode\n",
        "    model.eval()\n",
        "\n",
        "    # Loop over validation data\n",
        "    for x_test, y_test in test_loader:\n",
        "        z = model(x_test)\n",
        "        _, yhat = torch.max(z.data, 1)\n",
        "        correct += (yhat == y_test).sum().item()\n",
        "    accuracy = correct / N_test\n",
        "    accuracy_list.append(accuracy)\n",
        "    cost_list.append(cost)"
      ],
      "execution_count": 21,
      "outputs": []
    },
    {
      "cell_type": "markdown",
      "metadata": {
        "id": "gYUKvRQT4Fk8",
        "colab_type": "text"
      },
      "source": [
        "We can now plot the Cost and accuracy"
      ]
    },
    {
      "cell_type": "code",
      "metadata": {
        "id": "AsF2_AeT3dFU",
        "colab_type": "code",
        "colab": {
          "base_uri": "https://localhost:8080/",
          "height": 297
        },
        "outputId": "b7fe2279-9ee3-4408-c76e-7b50827f7b8c"
      },
      "source": [
        "fig, ax1 = plt.subplots()\n",
        "color = 'tab:red'\n",
        "ax1.plot(cost_list, color=color)\n",
        "ax1.set_xlabel('epoch', color=color)\n",
        "ax1.set_ylabel('Cost', color=color)\n",
        "ax1.tick_params(axis='y', color=color)\n",
        "    \n",
        "ax2 = ax1.twinx()  \n",
        "color = 'tab:blue'\n",
        "ax2.set_ylabel('accuracy', color=color) \n",
        "ax2.set_xlabel('epoch', color=color)\n",
        "ax2.plot( accuracy_list, color=color)\n",
        "ax2.tick_params(axis='y', color=color)\n",
        "fig.tight_layout()"
      ],
      "execution_count": 22,
      "outputs": [
        {
          "output_type": "display_data",
          "data": {
            "image/png": "[encoded data removed]",
            "text/plain": [
              "<Figure size 432x288 with 2 Axes>"
            ]
          },
          "metadata": {
            "tags": [],
            "needs_background": "light"
          }
        }
      ]
    },
    {
      "cell_type": "markdown",
      "metadata": {
        "id": "A2P13Lk54Q82",
        "colab_type": "text"
      },
      "source": [
        "Next we try the Adam optimizer"
      ]
    },
    {
      "cell_type": "code",
      "metadata": {
        "id": "QP1RGF-C4PA4",
        "colab_type": "code",
        "colab": {}
      },
      "source": [
        "model = CNN(out_1=16, out_2=32,number_of_classes=10)\n",
        "criterion = nn.CrossEntropyLoss()\n",
        "learning_rate = 0.001\n",
        "optimizer = torch.optim.Adam(model.parameters(), lr = learning_rate, weight_decay=1e-8) #Adam"
      ],
      "execution_count": 37,
      "outputs": []
    },
    {
      "cell_type": "markdown",
      "metadata": {
        "id": "hZWnG02d7UKz",
        "colab_type": "text"
      },
      "source": [
        "And train again"
      ]
    },
    {
      "cell_type": "code",
      "metadata": {
        "id": "TNoPbKij7Tcq",
        "colab_type": "code",
        "colab": {}
      },
      "source": [
        "cost_list=[]\n",
        "accuracy_list=[]\n",
        "N_test=len(dataset_val)\n",
        "n_epochs=10\n",
        "for epoch in range(n_epochs):\n",
        "    cost=0\n",
        "    # Put the arch. in train mode\n",
        "    model.train()\n",
        "\n",
        "    # Loop over training data set\n",
        "    for x, y in train_loader:\n",
        "\n",
        "        # Zero out the gradients\n",
        "        optimizer.zero_grad()\n",
        "\n",
        "        # Pass the batch to the architecture \n",
        "        z = model(x)\n",
        "\n",
        "        # Calculate the loss to reproduce the\n",
        "        # input at the output.\n",
        "        loss = criterion(z, y)\n",
        "\n",
        "        # Backpropagation \n",
        "        loss.backward()\n",
        "\n",
        "        # Update the network weights\n",
        "        optimizer.step()\n",
        "\n",
        "        # Add to the running loss\n",
        "        cost+=loss.item()\n",
        "\n",
        "    correct=0\n",
        "    #perform a prediction on the validation  data \n",
        "\n",
        "    # Set the model to evaluation mode\n",
        "    model.eval()\n",
        "\n",
        "    # Loop over validation data\n",
        "    for x_test, y_test in test_loader:\n",
        "        z = model(x_test)\n",
        "        _, yhat = torch.max(z.data, 1)\n",
        "        correct += (yhat == y_test).sum().item()\n",
        "    accuracy = correct / N_test\n",
        "    accuracy_list.append(accuracy)\n",
        "    cost_list.append(cost)"
      ],
      "execution_count": 38,
      "outputs": []
    },
    {
      "cell_type": "code",
      "metadata": {
        "id": "AoksrSOs7hSQ",
        "colab_type": "code",
        "colab": {
          "base_uri": "https://localhost:8080/",
          "height": 297
        },
        "outputId": "2cb9f6eb-d40e-488f-a9a7-2ba5b0232d1c"
      },
      "source": [
        "fig, ax1 = plt.subplots()\n",
        "color = 'tab:red'\n",
        "ax1.plot(cost_list, color=color)\n",
        "ax1.set_xlabel('epoch', color=color)\n",
        "ax1.set_ylabel('Cost', color=color)\n",
        "ax1.tick_params(axis='y', color=color)\n",
        "    \n",
        "ax2 = ax1.twinx()  \n",
        "color = 'tab:blue'\n",
        "ax2.set_ylabel('accuracy', color=color) \n",
        "ax2.set_xlabel('epoch', color=color)\n",
        "ax2.plot( accuracy_list, color=color)\n",
        "ax2.tick_params(axis='y', color=color)\n",
        "fig.tight_layout()"
      ],
      "execution_count": 41,
      "outputs": [
        {
          "output_type": "display_data",
          "data": {
            "image/png": "[encoded data removed]",
            "text/plain": [
              "<Figure size 432x288 with 2 Axes>"
            ]
          },
          "metadata": {
            "tags": [],
            "needs_background": "light"
          }
        }
      ]
    },
    {
      "cell_type": "markdown",
      "metadata": {
        "id": "_Z98HwNT8bMY",
        "colab_type": "text"
      },
      "source": [
        "## Batch Norm CNN\n",
        "\n",
        "An alternative is to apply batch normalization."
      ]
    },
    {
      "cell_type": "code",
      "metadata": {
        "id": "yILiTxcI7mi4",
        "colab_type": "code",
        "colab": {}
      },
      "source": [
        "class CNN_batch(nn.Module):\n",
        "    def __init__(self, out_1=16, out_2=32,number_of_classes=10):\n",
        "\n",
        "        super(CNN_batch, self).__init__()\n",
        "        \n",
        "        self.architecture = nn.Sequential(\n",
        "            nn.Conv2d(in_channels=1, out_channels=out_1, kernel_size=5, padding=2),\n",
        "            nn.BatchNorm2d(out_1),\n",
        "            nn.ReLU(),\n",
        "            nn.MaxPool2d(kernel_size=2),\n",
        "            nn.Conv2d(in_channels=out_1, out_channels=out_2, kernel_size=5, stride=1, padding=2),\n",
        "            nn.BatchNorm2d(out_2),\n",
        "            nn.ReLU(),\n",
        "            nn.MaxPool2d(kernel_size=2),\n",
        "            nn.Flatten(),\n",
        "            nn.Linear(out_2 * 4 * 4, number_of_classes),\n",
        "            nn.BatchNorm1d(10)\n",
        "        )\n",
        "\n",
        "    def forward(self, x):\n",
        "        x = self.architecture(x)\n",
        "        return x"
      ],
      "execution_count": 44,
      "outputs": []
    },
    {
      "cell_type": "code",
      "metadata": {
        "id": "crmDf0EVAsi6",
        "colab_type": "code",
        "colab": {}
      },
      "source": [
        "model = CNN_batch(out_1=16, out_2=32,number_of_classes=10)\n",
        "criterion = nn.CrossEntropyLoss()\n",
        "learning_rate = 0.001\n",
        "optimizer = torch.optim.Adam(model.parameters(), lr = learning_rate, weight_decay=1e-8) #Adam"
      ],
      "execution_count": 45,
      "outputs": []
    },
    {
      "cell_type": "code",
      "metadata": {
        "id": "DsqEqd28BK9t",
        "colab_type": "code",
        "colab": {}
      },
      "source": [
        "cost_list=[]\n",
        "accuracy_list=[]\n",
        "N_test=len(dataset_val)\n",
        "n_epochs=10\n",
        "for epoch in range(n_epochs):\n",
        "    cost=0\n",
        "    # Put the arch. in train mode\n",
        "    model.train()\n",
        "\n",
        "    # Loop over training data set\n",
        "    for x, y in train_loader:\n",
        "\n",
        "        # Zero out the gradients\n",
        "        optimizer.zero_grad()\n",
        "\n",
        "        # Pass the batch to the architecture \n",
        "        z = model(x)\n",
        "\n",
        "        # Calculate the loss to reproduce the\n",
        "        # input at the output.\n",
        "        loss = criterion(z, y)\n",
        "\n",
        "        # Backpropagation \n",
        "        loss.backward()\n",
        "\n",
        "        # Update the network weights\n",
        "        optimizer.step()\n",
        "\n",
        "        # Add to the running loss\n",
        "        cost+=loss.item()\n",
        "\n",
        "    correct=0\n",
        "    #perform a prediction on the validation  data \n",
        "\n",
        "    # Set the model to evaluation mode\n",
        "    model.eval()\n",
        "\n",
        "    # Loop over validation data\n",
        "    for x_test, y_test in test_loader:\n",
        "        z = model(x_test)\n",
        "        _, yhat = torch.max(z.data, 1)\n",
        "        correct += (yhat == y_test).sum().item()\n",
        "    accuracy = correct / N_test\n",
        "    accuracy_list.append(accuracy)\n",
        "    cost_list.append(cost)"
      ],
      "execution_count": 46,
      "outputs": []
    },
    {
      "cell_type": "code",
      "metadata": {
        "id": "-nimW2EYB1Vt",
        "colab_type": "code",
        "colab": {
          "base_uri": "https://localhost:8080/",
          "height": 297
        },
        "outputId": "58ee2cb8-2fa8-456c-e774-268e90913599"
      },
      "source": [
        "fig, ax1 = plt.subplots()\n",
        "color = 'tab:red'\n",
        "ax1.plot(cost_list, color=color)\n",
        "ax1.set_xlabel('epoch', color=color)\n",
        "ax1.set_ylabel('Cost', color=color)\n",
        "ax1.tick_params(axis='y', color=color)\n",
        "    \n",
        "ax2 = ax1.twinx()  \n",
        "color = 'tab:blue'\n",
        "ax2.set_ylabel('accuracy', color=color) \n",
        "ax2.set_xlabel('epoch', color=color)\n",
        "ax2.plot( accuracy_list, color=color)\n",
        "ax2.tick_params(axis='y', color=color)\n",
        "fig.tight_layout()"
      ],
      "execution_count": 47,
      "outputs": [
        {
          "output_type": "display_data",
          "data": {
            "image/png": "[encoded data removed]",
            "text/plain": [
              "<Figure size 432x288 with 2 Axes>"
            ]
          },
          "metadata": {
            "tags": [],
            "needs_background": "light"
          }
        }
      ]
    },
    {
      "cell_type": "markdown",
      "metadata": {
        "id": "ZxAHaVD1Eklo",
        "colab_type": "text"
      },
      "source": [
        "## Now we try deeper CNN such as Resnet18"
      ]
    },
    {
      "cell_type": "code",
      "metadata": {
        "id": "ihuCWqttCELT",
        "colab_type": "code",
        "colab": {
          "base_uri": "https://localhost:8080/",
          "height": 34
        },
        "outputId": "00fcf734-edf3-47b6-c256-bdb50f769fc1"
      },
      "source": [
        "model=models.resnet18(pretrained=False)\n",
        "num_ftrs = model.fc.in_features\n",
        "\n",
        "model.fc = nn.Linear(num_ftrs, 10) #set the output\n",
        "model.conv1 = torch.nn.Conv2d(1, 64, kernel_size=(7, 7), stride=(2, 2), padding=(3, 3), bias=False) #Modify resnet for grayscale\n",
        "\n",
        "model = model.cuda()\n",
        "\n",
        "preprocess = transforms.Compose([\n",
        "    transforms.Resize(224),\n",
        "    transforms.ToTensor()\n",
        "])\n",
        "\n",
        "dataset_train_p = dsets.FashionMNIST(root='.fashion/data', train=True, download=True, transform=preprocess)\n",
        "dataset_val_p = dsets.FashionMNIST(root='.fashion/data', train=False, download=True, transform=preprocess)\n",
        "\n",
        "train_loader_p = torch.utils.data.DataLoader(dataset=dataset_train_p, batch_size=100 )\n",
        "test_loader_p = torch.utils.data.DataLoader(dataset=dataset_val_p, batch_size=100 )\n",
        "\n",
        "print(torch.cuda.get_device_name())"
      ],
      "execution_count": 9,
      "outputs": [
        {
          "output_type": "stream",
          "text": [
            "Tesla P100-PCIE-16GB\n"
          ],
          "name": "stdout"
        }
      ]
    },
    {
      "cell_type": "markdown",
      "metadata": {
        "id": "gNcVVNphKy3j",
        "colab_type": "text"
      },
      "source": [
        "And then as before we define the loss and the optimizer"
      ]
    },
    {
      "cell_type": "code",
      "metadata": {
        "id": "8u_vKV04FKd7",
        "colab_type": "code",
        "colab": {}
      },
      "source": [
        "criterion = nn.CrossEntropyLoss()\n",
        "learning_rate = 0.001\n",
        "optimizer = torch.optim.Adam(model.parameters(), lr = learning_rate, weight_decay=1e-8) #Adam"
      ],
      "execution_count": 10,
      "outputs": []
    },
    {
      "cell_type": "code",
      "metadata": {
        "id": "tMXEv-WkLADZ",
        "colab_type": "code",
        "colab": {}
      },
      "source": [
        "cost_list=[]\n",
        "accuracy_list=[]\n",
        "N_test=len(dataset_val_p)\n",
        "n_epochs=10\n",
        "for epoch in range(n_epochs):\n",
        "    cost=0\n",
        "    # Put the arch. in train mode\n",
        "    model.train()\n",
        "\n",
        "    # Loop over training data set\n",
        "    for x, y in train_loader_p:\n",
        "\n",
        "        #move on the GPU\n",
        "        x  = x.to('cuda:0')\n",
        "        y = y.to('cuda:0')\n",
        "\n",
        "        # Zero out the gradients\n",
        "        optimizer.zero_grad()\n",
        "\n",
        "        # Pass the batch to the architecture \n",
        "        z = model(x)\n",
        "\n",
        "        # Calculate the loss to reproduce the\n",
        "        # input at the output.\n",
        "        loss = criterion(z, y)\n",
        "\n",
        "        # Backpropagation \n",
        "        loss.backward()\n",
        "\n",
        "        # Update the network weights\n",
        "        optimizer.step()\n",
        "\n",
        "        # Add to the running loss\n",
        "        cost+=loss.item()\n",
        "\n",
        "    correct=0\n",
        "    #perform a prediction on the validation  data \n",
        "\n",
        "    # Set the model to evaluation mode\n",
        "    model.eval()\n",
        "\n",
        "    # Loop over validation data\n",
        "    for x_test, y_test in test_loader_p:\n",
        "        x_test  = x_test.to('cuda:0')\n",
        "        y_test = y_test.to('cuda:0')\n",
        "        z = model(x_test)\n",
        "        _, yhat = torch.max(z.data, 1)\n",
        "        correct += (yhat == y_test).sum().to('cpu').item()\n",
        "    accuracy = correct / N_test\n",
        "    accuracy_list.append(accuracy)\n",
        "    cost_list.append(cost)"
      ],
      "execution_count": 13,
      "outputs": []
    },
    {
      "cell_type": "code",
      "metadata": {
        "id": "2q-harYwL3I5",
        "colab_type": "code",
        "colab": {
          "base_uri": "https://localhost:8080/",
          "height": 297
        },
        "outputId": "34e7c281-6e7e-452f-b3be-0efbf1277734"
      },
      "source": [
        "fig, ax1 = plt.subplots()\n",
        "color = 'tab:red'\n",
        "ax1.plot(cost_list, color=color)\n",
        "ax1.set_xlabel('epoch', color=color)\n",
        "ax1.set_ylabel('Cost', color=color)\n",
        "ax1.tick_params(axis='y', color=color)\n",
        "    \n",
        "ax2 = ax1.twinx()  \n",
        "color = 'tab:blue'\n",
        "ax2.set_ylabel('accuracy', color=color) \n",
        "ax2.set_xlabel('epoch', color=color)\n",
        "ax2.plot( accuracy_list, color=color)\n",
        "ax2.tick_params(axis='y', color=color)\n",
        "fig.tight_layout()"
      ],
      "execution_count": 14,
      "outputs": [
        {
          "output_type": "display_data",
          "data": {
            "image/png": "[encoded data removed]",
            "text/plain": [
              "<Figure size 432x288 with 2 Axes>"
            ]
          },
          "metadata": {
            "tags": [],
            "needs_background": "light"
          }
        }
      ]
    },
    {
      "cell_type": "code",
      "metadata": {
        "id": "jt6Z37HUMuEB",
        "colab_type": "code",
        "colab": {}
      },
      "source": [
        ""
      ],
      "execution_count": null,
      "outputs": []
    }
  ]
}